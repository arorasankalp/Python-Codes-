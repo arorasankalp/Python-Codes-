{
 "cells": [
  {
   "cell_type": "code",
   "execution_count": 4,
   "metadata": {},
   "outputs": [],
   "source": [
    "# From the course: Bayesin Machine Learning in Python: A/B Testing\n",
    "# https://deeplearningcourses.com/c/bayesian-machine-learning-in-python-ab-testing\n",
    "# https://www.udemy.com/bayesian-machine-learning-in-python-ab-testing\n",
    "from __future__ import print_function, division\n",
    "from builtins import range\n",
    "# Note: you may need to update your version of future\n",
    "# sudo pip install -U future\n"
   ]
  },
  {
   "cell_type": "code",
   "execution_count": 5,
   "metadata": {},
   "outputs": [],
   "source": [
    "import matplotlib.pyplot as plt \n",
    "import numpy as np "
   ]
  },
  {
   "cell_type": "code",
   "execution_count": 6,
   "metadata": {},
   "outputs": [],
   "source": [
    "NUM_TRIALS = 10000\n",
    "EPS = 0.1 \n",
    "BANDIT_PROBABILITIES = [0.2, 0.5, 0.75]"
   ]
  },
  {
   "cell_type": "code",
   "execution_count": 11,
   "metadata": {},
   "outputs": [
    {
     "name": "stdout",
     "output_type": "stream",
     "text": [
      "optimal j: 2\n",
      "mean estimate: 0.1988950276243093\n",
      "mean estimate: 0.49363057324840776\n",
      "mean estimate: 0.7548262548262541\n",
      "total reward earned: 7265.0\n",
      "overall win rate: 0.7265\n",
      "num_times_explored: 948\n",
      "num_times_exploited: 9052\n",
      "num times selected optimal bandit: 9324\n"
     ]
    },
    {
     "data": {
      "image/png": "[encoded data removed]",
      "text/plain": [
       "<Figure size 432x288 with 1 Axes>"
      ]
     },
     "metadata": {
      "needs_background": "light"
     },
     "output_type": "display_data"
    }
   ],
   "source": [
    "class Bandit :\n",
    "    def __init__(self,p):\n",
    "        # p is the win rate \n",
    "        self.p = p\n",
    "        self.p_estimate = 0 \n",
    "        self.N = 0 # number of samples collected so far \n",
    "    \n",
    "    def pull(self):\n",
    "        #draw a 1 with probability p\n",
    "        return np.random.random() < self.p\n",
    "    \n",
    "    def update(self,x):\n",
    "        # updates the current estimation of the bandit mean \n",
    "        self.N += 1\n",
    "        self.p_estimate = ((self.N - 1)*self.p_estimate + x) / self.N\n",
    "        \n",
    "def experiment():\n",
    "    bandits = [Bandit(p) for p in BANDIT_PROBABILITIES]\n",
    "    rewards = np.zeros(NUM_TRIALS) #stores all the rewards collected in eavch trial \n",
    "    num_times_explored = 0\n",
    "    num_times_exploited = 0\n",
    "    num_optimal = 0\n",
    "    optimal_j = np.argmax([b.p for b in bandits])\n",
    "    print(\"optimal j:\", optimal_j)\n",
    "        \n",
    "    for i in range(NUM_TRIALS):\n",
    "            \n",
    "        #use epsilon-greedy to select the bandit \n",
    "        if np.random.random() < EPS :\n",
    "            num_times_explored += 1\n",
    "            j = np.random.randint(len(bandits))\n",
    "        else :\n",
    "            num_times_exploited += 1\n",
    "            j = np.argmax([b.p_estimate for b in bandits])\n",
    "                \n",
    "        if j  == optimal_j:\n",
    "            num_optimal += 1\n",
    "            \n",
    "        #pull the arm for the bandit with the largest sample \n",
    "        x= bandits[j].pull()\n",
    "            \n",
    "        #update reward log \n",
    "        rewards[i] = x\n",
    "            \n",
    "        #update the distribution for the bandit whose arm we just pulled\n",
    "        bandits[j].update(x)\n",
    "            \n",
    "    #print mean estimate for each bandit \n",
    "    for b in bandits:\n",
    "        print(\"mean estimate:\", b.p_estimate)\n",
    "            \n",
    "    #print total reward \n",
    "    print(\"total reward earned:\", rewards.sum())\n",
    "    print(\"overall win rate:\", rewards.sum()/ NUM_TRIALS)\n",
    "    print(\"num_times_explored:\",num_times_explored)\n",
    "    print(\"num_times_exploited:\", num_times_exploited)\n",
    "    print(\"num times selected optimal bandit:\", num_optimal)\n",
    "        \n",
    "    #plot the results \n",
    "    cumulative_rewards = np.cumsum(rewards)\n",
    "    win_rate = cumulative_rewards / (np.arange(NUM_TRIALS) + 1)\n",
    "    plt.plot(win_rate)\n",
    "    plt.plot(np.ones(NUM_TRIALS)*np.max(BANDIT_PROBABILITIES))\n",
    "    plt.show()\n",
    "        \n",
    "if __name__ == \"__main__\":\n",
    "    experiment()\n",
    "        "
   ]
  }
 ],
 "metadata": {
  "kernelspec": {
   "display_name": "Python 3",
   "language": "python",
   "name": "python3"
  },
  "language_info": {
   "codemirror_mode": {
    "name": "ipython",
    "version": 3
   },
   "file_extension": ".py",
   "mimetype": "text/x-python",
   "name": "python",
   "nbconvert_exporter": "python",
   "pygments_lexer": "ipython3",
   "version": "3.7.3"
  }
 },
 "nbformat": 4,
 "nbformat_minor": 2
}
