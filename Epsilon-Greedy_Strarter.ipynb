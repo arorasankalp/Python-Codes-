{
 "cells": [
  {
   "cell_type": "code",
   "execution_count": 13,
   "metadata": {},
   "outputs": [],
   "source": [
    "import matplotlib.pyplot as plt\n",
    "import numpy as np "
   ]
  },
  {
   "cell_type": "code",
   "execution_count": 14,
   "metadata": {},
   "outputs": [],
   "source": [
    "NUM_TRIALS = 10000\n",
    "EPS = 0.1\n",
    "BANDIT_PROBABILITIES = [0.2,0.5,0.75]\n",
    "\n",
    "# p represents the true win rate for this bandit "
   ]
  },
  {
   "cell_type": "code",
   "execution_count": 53,
   "metadata": {},
   "outputs": [
    {
     "name": "stdout",
     "output_type": "stream",
     "text": [
      "optimal j: 2\n",
      "mean estimate: 0.4\n",
      "mean estimate: 0.4\n",
      "mean estimate: 0.4\n",
      "total reward earned: 7468.0\n",
      "overall win rate: 0.7468\n",
      "num_times_explored: 1002\n",
      "num_times_exploited 8998\n",
      "num times selected optimal bandit: 10000\n"
     ]
    },
    {
     "data": {
      "image/png": "[encoded data removed]",
      "text/plain": [
       "<Figure size 432x288 with 1 Axes>"
      ]
     },
     "metadata": {
      "needs_background": "light"
     },
     "output_type": "display_data"
    }
   ],
   "source": [
    "class Bandit:\n",
    "    def __init__(self,p):\n",
    "        self.p = p\n",
    "        self.p_estimate =  0.4 #TODO #as we dont know p thus to get the estimate a estimate variable is created \n",
    "        self.N = 0 #TODO #N represent the number of samples\n",
    "        \n",
    "    def pull(self):\n",
    "        return np.random.random() < self.p #it returns one with probablity p \n",
    "    \n",
    "    def update(self,x):\n",
    "        self.N = 0 #TODO #take the sample value x and uses it to update the p estimate value \n",
    "        self.p_estimate = 0.4 #TODO\n",
    "        \n",
    "    def experiment():\n",
    "        #experiment function runs the greedy algorithm\n",
    "        bandits = [Bandit(p) for p in BANDIT_PROBABILITIES] \n",
    "        rewards = np.zeros(NUM_TRIALS)\n",
    "        num_times_explored = 0\n",
    "        num_times_exploited = 0\n",
    "        num_optimal = 0\n",
    "        optimal_j = np.argmax([b.p for b in bandits])\n",
    "        print(\"optimal j:\", optimal_j)\n",
    "        \n",
    "        for i in range(NUM_TRIALS):\n",
    "            #use epsilon-greedy to select the next bandit \n",
    "            if np.random.random() < EPS:\n",
    "                num_times_explored += 1\n",
    "                j = 2 #TODO\n",
    "            else :\n",
    "                num_times_exploited += 1\n",
    "                j = 2 #TODO\n",
    "                \n",
    "            if j == optimal_j:\n",
    "                num_optimal +=1\n",
    "            \n",
    "            x = bandits[j].pull()\n",
    "            \n",
    "            rewards[i] = x\n",
    "            \n",
    "            bandits[j].update(x)\n",
    "                \n",
    "        for b in bandits:\n",
    "            print(\"mean estimate:\",  b.p_estimate)\n",
    "            \n",
    "        print(\"total reward earned:\", rewards.sum())\n",
    "        print(\"overall win rate:\", rewards.sum()/ NUM_TRIALS)\n",
    "        print(\"num_times_explored:\", num_times_explored)\n",
    "        print(\"num_times_exploited\", num_times_exploited)\n",
    "        print(\"num times selected optimal bandit:\", num_optimal)\n",
    "        \n",
    "        cumulative_rewards = np.cumsum(rewards)\n",
    "        win_rates = cumulative_rewards / (np.arange(NUM_TRIALS) + 1)\n",
    "        plt.plot(win_rates)\n",
    "        plt.plot(np.ones(NUM_TRIALS)*np.max(BANDIT_PROBABILITIES))\n",
    "        plt.show()\n",
    "        \n",
    "    if __name__ == \"__main__\":\n",
    "        experiment()"
   ]
  }
 ],
 "metadata": {
  "kernelspec": {
   "display_name": "Python 3",
   "language": "python",
   "name": "python3"
  },
  "language_info": {
   "codemirror_mode": {
    "name": "ipython",
    "version": 3
   },
   "file_extension": ".py",
   "mimetype": "text/x-python",
   "name": "python",
   "nbconvert_exporter": "python",
   "pygments_lexer": "ipython3",
   "version": "3.7.3"
  }
 },
 "nbformat": 4,
 "nbformat_minor": 2
}
