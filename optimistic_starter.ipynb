{
 "cells": [
  {
   "cell_type": "code",
   "execution_count": 2,
   "metadata": {},
   "outputs": [
    {
     "name": "stdout",
     "output_type": "stream",
     "text": [
      "mean estimate: 0.7142857142857143\n",
      "mean estimate: 0.7142857142857143\n",
      "mean estimate: 0.7487477459426979\n",
      "total reward earned: 7474.0\n",
      "overall win rate: 0.7474\n",
      "num times selected each bandit: [7.0, 14.0, 9982.0]\n"
     ]
    },
    {
     "data": {
      "image/png": "[encoded data removed]",
      "text/plain": [
       "<Figure size 432x288 with 1 Axes>"
      ]
     },
     "metadata": {
      "needs_background": "light"
     },
     "output_type": "display_data"
    }
   ],
   "source": [
    "# From the course: Bayesin Machine Learning in Python: A/B Testing\n",
    "# https://deeplearningcourses.com/c/bayesian-machine-learning-in-python-ab-testing\n",
    "# https://www.udemy.com/bayesian-machine-learning-in-python-ab-testing\n",
    "from __future__ import print_function, division\n",
    "from builtins import range\n",
    "# Note: you may need to update your version of future\n",
    "# sudo pip install -U future\n",
    "\n",
    "\n",
    "import matplotlib.pyplot as plt\n",
    "import numpy as np\n",
    "\n",
    "\n",
    "NUM_TRIALS = 10000\n",
    "EPS = 0.1\n",
    "BANDIT_PROBABILITIES = [0.2, 0.5, 0.75]\n",
    "\n",
    "\n",
    "class Bandit:\n",
    "  def __init__(self, p):\n",
    "    # p: the win rate\n",
    "    self.p = p\n",
    "    self.p_estimate = 5 # TODO\n",
    "    self.N = 1# TODO\n",
    "\n",
    "  def pull(self):\n",
    "    # draw a 1 with probability p\n",
    "    return np.random.random() < self.p\n",
    "\n",
    "  def update(self, x):\n",
    "    # TODO\n",
    "    self.N += 1.\n",
    "    self.p_estimate = ((self.N - 1)*self.p_estimate + x) / self.N # TODO\n",
    "\n",
    "\n",
    "def experiment():\n",
    "  bandits = [Bandit(p) for p in BANDIT_PROBABILITIES]\n",
    "\n",
    "  rewards = np.zeros(NUM_TRIALS)\n",
    "  for i in range(NUM_TRIALS):\n",
    "    # use optimistic initial values to select the next bandit\n",
    "    j = np.argmax([b.p_estimate for b in bandits])# TODO\n",
    "\n",
    "    # pull the arm for the bandit with the largest sample\n",
    "    x = bandits[j].pull()\n",
    "\n",
    "    # update rewards log\n",
    "    rewards[i] = x\n",
    "\n",
    "    # update the distribution for the bandit whose arm we just pulled\n",
    "    bandits[j].update(x)\n",
    "\n",
    "\n",
    "  # print mean estimates for each bandit\n",
    "  for b in bandits:\n",
    "    print(\"mean estimate:\", b.p_estimate)\n",
    "\n",
    "  # print total reward\n",
    "  print(\"total reward earned:\", rewards.sum())\n",
    "  print(\"overall win rate:\", rewards.sum() / NUM_TRIALS)\n",
    "  print(\"num times selected each bandit:\", [b.N for b in bandits])\n",
    "\n",
    "  # plot the results\n",
    "  cumulative_rewards = np.cumsum(rewards)\n",
    "  win_rates = cumulative_rewards / (np.arange(NUM_TRIALS) + 1)\n",
    "  plt.ylim([0, 1])\n",
    "  plt.plot(win_rates)\n",
    "  plt.plot(np.ones(NUM_TRIALS)*np.max(BANDIT_PROBABILITIES))\n",
    "  plt.show()\n",
    "\n",
    "if __name__ == \"__main__\":\n",
    "  experiment()\n"
   ]
  }
 ],
 "metadata": {
  "kernelspec": {
   "display_name": "Python 3",
   "language": "python",
   "name": "python3"
  },
  "language_info": {
   "codemirror_mode": {
    "name": "ipython",
    "version": 3
   },
   "file_extension": ".py",
   "mimetype": "text/x-python",
   "name": "python",
   "nbconvert_exporter": "python",
   "pygments_lexer": "ipython3",
   "version": "3.7.3"
  }
 },
 "nbformat": 4,
 "nbformat_minor": 2
}
